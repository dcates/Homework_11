{
 "cells": [
  {
   "cell_type": "code",
   "execution_count": 1,
   "metadata": {},
   "outputs": [],
   "source": [
    "# Dependencies\n",
    "import pandas as pd\n",
    "import sqlalchemy\n",
    "from sqlalchemy.ext.automap import automap_base\n",
    "from sqlalchemy.orm import Session\n",
    "from sqlalchemy import create_engine, inspect\n",
    "import pymysql\n",
    "pymysql.install_as_MySQLdb()\n",
    "from sqlalchemy.ext.declarative import declarative_base\n",
    "Base = declarative_base()\n",
    "from sqlalchemy import Column, Integer, String, Float"
   ]
  },
  {
   "cell_type": "code",
   "execution_count": 2,
   "metadata": {},
   "outputs": [],
   "source": [
    "# creating classes\n",
    "class Station(Base):\n",
    "    __tablename__ = 'station'\n",
    "    id = Column(Integer, primary_key=True)\n",
    "    station = Column(String)\n",
    "    name = Column(String)\n",
    "    latitude = Column(Float)\n",
    "    longitude = Column(Float)\n",
    "    elevation = Column(Float)\n",
    "    \n",
    "class Measurement(Base):\n",
    "    __tablename__ = 'measurement'\n",
    "    id = Column(Integer, primary_key=True)\n",
    "    station = Column(String)\n",
    "    date = Column(String)\n",
    "    prcp = Column(Float)\n",
    "    tobs = Column(Integer)   "
   ]
  },
  {
   "cell_type": "code",
   "execution_count": 3,
   "metadata": {},
   "outputs": [
    {
     "data": {
      "text/plain": [
       "immutabledict({'station': Table('station', MetaData(bind=None), Column('id', Integer(), table=<station>, primary_key=True, nullable=False), Column('station', String(), table=<station>), Column('name', String(), table=<station>), Column('latitude', Float(), table=<station>), Column('longitude', Float(), table=<station>), Column('elevation', Float(), table=<station>), schema=None), 'measurement': Table('measurement', MetaData(bind=None), Column('id', Integer(), table=<measurement>, primary_key=True, nullable=False), Column('station', String(), table=<measurement>), Column('date', String(), table=<measurement>), Column('prcp', Float(), table=<measurement>), Column('tobs', Integer(), table=<measurement>), schema=None)})"
      ]
     },
     "execution_count": 3,
     "metadata": {},
     "output_type": "execute_result"
    }
   ],
   "source": [
    "Base.metadata.tables"
   ]
  },
  {
   "cell_type": "code",
   "execution_count": 4,
   "metadata": {},
   "outputs": [],
   "source": [
    "# Create database engine\n",
    "engine = create_engine(\"sqlite:///Resources/hawaii.sqlite\")"
   ]
  },
  {
   "cell_type": "code",
   "execution_count": 5,
   "metadata": {},
   "outputs": [],
   "source": [
    "# create tables in database\n",
    "Base.metadata.create_all(engine)"
   ]
  },
  {
   "cell_type": "code",
   "execution_count": 6,
   "metadata": {},
   "outputs": [],
   "source": [
    "# orm\n",
    "from sqlalchemy.orm import Session\n",
    "session = Session(engine)"
   ]
  },
  {
   "cell_type": "code",
   "execution_count": 7,
   "metadata": {},
   "outputs": [
    {
     "data": {
      "text/plain": [
       "IdentitySet([])"
      ]
     },
     "execution_count": 7,
     "metadata": {},
     "output_type": "execute_result"
    }
   ],
   "source": [
    "session.new"
   ]
  },
  {
   "cell_type": "code",
   "execution_count": 8,
   "metadata": {},
   "outputs": [],
   "source": [
    "Base.metadata.create_all(engine)\n",
    "session = Session(bind=engine)"
   ]
  },
  {
   "cell_type": "code",
   "execution_count": 9,
   "metadata": {},
   "outputs": [],
   "source": [
    "# Store filepath in a variable\n",
    "h_meas = \"Resources/clean_hawaii_measurements.csv\"\n",
    "h_stat = \"Resources/clean_hawaii_stations.csv\""
   ]
  },
  {
   "cell_type": "code",
   "execution_count": 10,
   "metadata": {},
   "outputs": [],
   "source": [
    "# Reading files with the pandas\n",
    "measurements_df = pd.read_csv(h_meas, encoding=\"ISO-8859-1\")\n",
    "stations_df = pd.read_csv(h_stat, encoding=\"ISO-8859-1\")"
   ]
  },
  {
   "cell_type": "code",
   "execution_count": 11,
   "metadata": {},
   "outputs": [],
   "source": [
    "Base = automap_base()"
   ]
  },
  {
   "cell_type": "code",
   "execution_count": 12,
   "metadata": {},
   "outputs": [],
   "source": [
    "# Use the Base class to reflect the database tables\n",
    "Base.prepare(engine, reflect=True)"
   ]
  },
  {
   "cell_type": "code",
   "execution_count": 13,
   "metadata": {},
   "outputs": [
    {
     "data": {
      "text/plain": [
       "[]"
      ]
     },
     "execution_count": 13,
     "metadata": {},
     "output_type": "execute_result"
    }
   ],
   "source": [
    "# Print all of the classes mapped to the Base\n",
    "Base.classes.keys()"
   ]
  },
  {
   "cell_type": "code",
   "execution_count": 14,
   "metadata": {},
   "outputs": [],
   "source": [
    "# Create the inspector and connect it to the engine\n",
    "inspector = inspect(engine)"
   ]
  },
  {
   "cell_type": "code",
   "execution_count": 15,
   "metadata": {},
   "outputs": [
    {
     "data": {
      "text/plain": [
       "['measurement', 'station']"
      ]
     },
     "execution_count": 15,
     "metadata": {},
     "output_type": "execute_result"
    }
   ],
   "source": [
    "# Collect the names of tables within the database\n",
    "inspector.get_table_names()"
   ]
  },
  {
   "cell_type": "code",
   "execution_count": 16,
   "metadata": {},
   "outputs": [
    {
     "name": "stdout",
     "output_type": "stream",
     "text": [
      "id BIGINT\n",
      "station TEXT\n",
      "name TEXT\n",
      "latitude FLOAT\n",
      "longitude FLOAT\n",
      "elevation FLOAT\n"
     ]
    }
   ],
   "source": [
    "# Using the inspector to print the column names within the 'station' table and its types\n",
    "columns = inspector.get_columns('station')\n",
    "for column in columns:\n",
    "    print(column[\"name\"], column[\"type\"])"
   ]
  },
  {
   "cell_type": "code",
   "execution_count": 17,
   "metadata": {},
   "outputs": [],
   "source": [
    "# Create a session\n",
    "session = Session(engine)"
   ]
  },
  {
   "cell_type": "code",
   "execution_count": 18,
   "metadata": {},
   "outputs": [
    {
     "data": {
      "text/plain": [
       "[(0, 'USC00519397', 'WAIKIKI 717.2, HI US', 21.2716, -157.8168, 3.0),\n",
       " (1, 'USC00513117', 'KANEOHE 838.1, HI US', 21.4234, -157.8015, 14.6),\n",
       " (2, 'USC00514830', 'KUALOA RANCH HEADQUARTERS 886.9, HI US', 21.5213, -157.8374, 7.0),\n",
       " (3, 'USC00517948', 'PEARL CITY, HI US', 21.3934, -157.9751, 11.9),\n",
       " (4, 'USC00518838', 'UPPER WAHIAWA 874.3, HI US', 21.4992, -158.0111, 306.6),\n",
       " (5, 'USC00519523', 'WAIMANALO EXPERIMENTAL FARM, HI US', 21.33556, -157.71139, 19.5),\n",
       " (6, 'USC00519281', 'WAIHEE 837.5, HI US', 21.45167, -157.84888999999995, 32.9),\n",
       " (7, 'USC00511918', 'HONOLULU OBSERVATORY 702.2, HI US', 21.3152, -157.9992, 0.9),\n",
       " (8, 'USC00516128', 'MANOA LYON ARBO 785.2, HI US', 21.3331, -157.8025, 152.4)]"
      ]
     },
     "execution_count": 18,
     "metadata": {},
     "output_type": "execute_result"
    }
   ],
   "source": [
    "# reviewing data\n",
    "engine.execute('select * from station').fetchall()"
   ]
  },
  {
   "cell_type": "code",
   "execution_count": 19,
   "metadata": {},
   "outputs": [
    {
     "name": "stdout",
     "output_type": "stream",
     "text": [
      "------------\n",
      "id: USC00519397\n",
      "item: WAIKIKI 717.2, HI US\n",
      "weight: 21.2716\n",
      "collector: -157.8168\n",
      "------------\n",
      "id: USC00513117\n",
      "item: KANEOHE 838.1, HI US\n",
      "weight: 21.4234\n",
      "collector: -157.8015\n",
      "------------\n",
      "id: USC00514830\n",
      "item: KUALOA RANCH HEADQUARTERS 886.9, HI US\n",
      "weight: 21.5213\n",
      "collector: -157.8374\n",
      "------------\n",
      "id: USC00517948\n",
      "item: PEARL CITY, HI US\n",
      "weight: 21.3934\n",
      "collector: -157.9751\n",
      "------------\n",
      "id: USC00518838\n",
      "item: UPPER WAHIAWA 874.3, HI US\n",
      "weight: 21.4992\n",
      "collector: -158.0111\n",
      "------------\n",
      "id: USC00519523\n",
      "item: WAIMANALO EXPERIMENTAL FARM, HI US\n",
      "weight: 21.33556\n",
      "collector: -157.71139\n",
      "------------\n",
      "id: USC00519281\n",
      "item: WAIHEE 837.5, HI US\n",
      "weight: 21.45167\n",
      "collector: -157.84888999999995\n",
      "------------\n",
      "id: USC00511918\n",
      "item: HONOLULU OBSERVATORY 702.2, HI US\n",
      "weight: 21.3152\n",
      "collector: -157.9992\n",
      "------------\n",
      "id: USC00516128\n",
      "item: MANOA LYON ARBO 785.2, HI US\n",
      "weight: 21.3331\n",
      "collector: -157.8025\n"
     ]
    }
   ],
   "source": [
    "items = session.query(Station)\n",
    "for item in items:\n",
    "    print(\"-\"*12)\n",
    "    print(f\"id: {item.station}\")\n",
    "    print(f\"item: {item.name}\")\n",
    "    print(f\"weight: {item.latitude}\")\n",
    "    print(f\"collector: {item.longitude}\")"
   ]
  },
  {
   "cell_type": "code",
   "execution_count": 20,
   "metadata": {},
   "outputs": [],
   "source": [
    "# adding CSV files to database\n",
    "engine = create_engine(\"sqlite:///Resources/hawaii.sqlite\")\n",
    "Base.metadata.create_all(engine)\n",
    "file_name = 'Resources/clean_hawaii_measurements.csv'\n",
    "df = pd.read_csv(file_name)\n",
    "df.to_sql(con=engine, index_label='id', name=Measurement.__tablename__, if_exists='replace')  "
   ]
  },
  {
   "cell_type": "code",
   "execution_count": 21,
   "metadata": {},
   "outputs": [],
   "source": [
    "# adding CSV files to database\n",
    "engine = create_engine(\"sqlite:///Resources/hawaii.sqlite\")\n",
    "Base.metadata.create_all(engine)\n",
    "file_name = \"Resources/clean_hawaii_stations.csv\"\n",
    "df = pd.read_csv(file_name)\n",
    "df.to_sql(con=engine, index_label='id', name=Station.__tablename__, if_exists='replace')  "
   ]
  },
  {
   "cell_type": "code",
   "execution_count": 23,
   "metadata": {},
   "outputs": [
    {
     "name": "stdout",
     "output_type": "stream",
     "text": [
      "------------\n",
      "id: USC00519397\n",
      "item: WAIKIKI 717.2, HI US\n",
      "weight: 21.2716\n",
      "collector: -157.8168\n",
      "------------\n",
      "id: USC00513117\n",
      "item: KANEOHE 838.1, HI US\n",
      "weight: 21.4234\n",
      "collector: -157.8015\n",
      "------------\n",
      "id: USC00514830\n",
      "item: KUALOA RANCH HEADQUARTERS 886.9, HI US\n",
      "weight: 21.5213\n",
      "collector: -157.8374\n",
      "------------\n",
      "id: USC00517948\n",
      "item: PEARL CITY, HI US\n",
      "weight: 21.3934\n",
      "collector: -157.9751\n",
      "------------\n",
      "id: USC00518838\n",
      "item: UPPER WAHIAWA 874.3, HI US\n",
      "weight: 21.4992\n",
      "collector: -158.0111\n",
      "------------\n",
      "id: USC00519523\n",
      "item: WAIMANALO EXPERIMENTAL FARM, HI US\n",
      "weight: 21.33556\n",
      "collector: -157.71139\n",
      "------------\n",
      "id: USC00519281\n",
      "item: WAIHEE 837.5, HI US\n",
      "weight: 21.45167\n",
      "collector: -157.84888999999995\n",
      "------------\n",
      "id: USC00511918\n",
      "item: HONOLULU OBSERVATORY 702.2, HI US\n",
      "weight: 21.3152\n",
      "collector: -157.9992\n",
      "------------\n",
      "id: USC00516128\n",
      "item: MANOA LYON ARBO 785.2, HI US\n",
      "weight: 21.3331\n",
      "collector: -157.8025\n"
     ]
    }
   ],
   "source": [
    "items = session.query(Station)\n",
    "for item in items:\n",
    "    print(\"-\"*12)\n",
    "    print(f\"id: {item.station}\")\n",
    "    print(f\"item: {item.name}\")\n",
    "    print(f\"weight: {item.latitude}\")\n",
    "    print(f\"collector: {item.longitude}\")"
   ]
  }
 ],
 "metadata": {
  "kernelspec": {
   "display_name": "Python [conda env:PythonData]",
   "language": "python",
   "name": "conda-env-PythonData-py"
  },
  "language_info": {
   "codemirror_mode": {
    "name": "ipython",
    "version": 3
   },
   "file_extension": ".py",
   "mimetype": "text/x-python",
   "name": "python",
   "nbconvert_exporter": "python",
   "pygments_lexer": "ipython3",
   "version": "3.6.4"
  }
 },
 "nbformat": 4,
 "nbformat_minor": 2
}
